{
 "cells": [
  {
   "cell_type": "code",
   "metadata": {},
   "execution_count": null,
   "outputs": [],
   "source": "# Install required packages and mount Google Drive\n!pip install -q torch torchvision pandas numpy scikit-learn\nfrom google.colab import drive\ndrive.mount('/content/drive')"
  },
  {
   "cell_type": "code",
   "metadata": {},
   "execution_count": null,
   "outputs": [],
   "source": "\n\"\"\"\nDownload Falah/Alzheimer_MRI from Hugging Face and save as images\ninto /content/drive/MyDrive/Alzheimers/Data/HuggingFace_Falah_Alzheimer_MRI.\nRenames class folders so *_Demented \u2192 *_Impaired for consistency.\n\"\"\"\n\nfrom datasets import load_dataset, Image as HFImage\nfrom PIL import Image as PILImage\nfrom pathlib import Path\nimport os\n\n# ------------------------------------------------------------------\n# Project root (home-relative)\n# ------------------------------------------------------------------\nPROJ_ROOT = Path(\"/content/drive/MyDrive/Alzheimers\")\nDATA_ROOT = PROJ_ROOT / \"Data\" / \"HuggingFace_Falah_Alzheimer_MRI\"\nDATA_ROOT.mkdir(parents=True, exist_ok=True)\n\n# ------------------------------------------------------------------\n# Load dataset\n# ------------------------------------------------------------------\nds_dict = load_dataset(\"Falah/Alzheimer_MRI\")\n\n# ------------------------------------------------------------------\n# Column detection helper\n# ------------------------------------------------------------------\ndef detect_columns(ds):\n    img_col = None\n    lbl_col = None\n    for col, feat in ds.features.items():\n        if isinstance(feat, HFImage):\n            img_col = col\n        if hasattr(feat, \"names\"):   # ClassLabel\n            lbl_col = col\n    if img_col is None:\n        for c in [\"image\", \"img\", \"path\", \"file\", \"filepath\"]:\n            if c in ds.column_names:\n                img_col = c; break\n    if lbl_col is None:\n        for c in [\"label\", \"class\", \"target\", \"y\"]:\n            if c in ds.column_names:\n                lbl_col = c; break\n    return img_col, lbl_col\n\n# ------------------------------------------------------------------\n# Class folder rename map\n# ------------------------------------------------------------------\nCLASS_RENAME = {\n    \"Mild_Demented\": \"Mild_Impaired\",\n    \"Moderate_Demented\": \"Moderate_Impaired\",\n    \"Very_Mild_Demented\": \"Very_Mild_Impaired\",\n    \"Non_Demented\": \"No_Impairment\",\n}\n\n# ------------------------------------------------------------------\n# Iterate splits and export\n# ------------------------------------------------------------------\nfor split, ds in ds_dict.items():\n    img_col, lbl_col = detect_columns(ds)\n    if img_col is None or lbl_col is None:\n        raise RuntimeError(f\"Could not infer columns for split '{split}': {ds.column_names}\")\n\n    # Ensure decoding to PIL\n    if not isinstance(ds.features[img_col], HFImage):\n        ds = ds.cast_column(img_col, HFImage())\n\n    # Extract class names if available\n    class_names = ds.features[lbl_col].names if hasattr(ds.features[lbl_col], \"names\") else None\n\n    split_dir = DATA_ROOT / split\n    split_dir.mkdir(parents=True, exist_ok=True)\n\n    for i, row in enumerate(ds):\n        im = row[img_col]\n        y  = row[lbl_col]\n        cls = class_names[y] if class_names else str(y)\n\n        # Apply rename map\n        cls = CLASS_RENAME.get(cls, cls)\n\n        out_dir = split_dir / cls\n        out_dir.mkdir(parents=True, exist_ok=True)\n\n        fname = f\"{i:07d}.jpg\"\n        out_path = out_dir / fname\n\n        # Defensive: ensure PIL.Image\n        if not isinstance(im, PILImage.Image):\n            im = PILImage.fromarray(im)\n\n        im.save(out_path, format=\"JPEG\", quality=95)\n\n    print(f\"Saved split '{split}' to: {split_dir}\")\n"
  }
 ],
 "metadata": {},
 "nbformat": 4,
 "nbformat_minor": 5
}